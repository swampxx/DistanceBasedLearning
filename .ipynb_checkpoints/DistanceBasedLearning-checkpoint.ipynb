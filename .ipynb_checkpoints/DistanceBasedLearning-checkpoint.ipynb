{
 "cells": [
  {
   "cell_type": "markdown",
   "metadata": {
    "colab_type": "text",
    "id": "view-in-github"
   },
   "source": [
    "<a href=\"https://colab.research.google.com/github/swampxx/DistanceBasedLearning/blob/master/DistanceBasedLearning.ipynb\" target=\"_parent\"><img src=\"https://colab.research.google.com/assets/colab-badge.svg\" alt=\"Open In Colab\"/></a>"
   ]
  },
  {
   "cell_type": "markdown",
   "metadata": {
    "colab_type": "text",
    "id": "Ee_PILA4IJWN"
   },
   "source": [
    "# Dataset"
   ]
  },
  {
   "cell_type": "code",
   "execution_count": 1,
   "metadata": {
    "colab": {
     "base_uri": "https://localhost:8080/",
     "height": 121
    },
    "colab_type": "code",
    "id": "lFcQMRGKIR7Z",
    "outputId": "4a42c399-298e-43c9-97c4-150f8060afd2"
   },
   "outputs": [
    {
     "name": "stdout",
     "output_type": "stream",
     "text": [
      "Cloning into 'CMANN'...\n",
      "remote: Enumerating objects: 7, done.\u001b[K\n",
      "remote: Counting objects:  14% (1/7)   \u001b[K\r",
      "remote: Counting objects:  28% (2/7)   \u001b[K\r",
      "remote: Counting objects:  42% (3/7)   \u001b[K\r",
      "remote: Counting objects:  57% (4/7)   \u001b[K\r",
      "remote: Counting objects:  71% (5/7)   \u001b[K\r",
      "remote: Counting objects:  85% (6/7)   \u001b[K\r",
      "remote: Counting objects: 100% (7/7)   \u001b[K\r",
      "remote: Counting objects: 100% (7/7), done.\u001b[K\n",
      "remote: Compressing objects: 100% (5/5), done.\u001b[K\n",
      "remote: Total 7 (delta 0), reused 0 (delta 0), pack-reused 0\u001b[K\n",
      "Unpacking objects: 100% (7/7), done.\n"
     ]
    }
   ],
   "source": [
    "!rm -r CMANN\n",
    "!git clone https://github.com/Orkun-tanik/CMANN.git"
   ]
  },
  {
   "cell_type": "markdown",
   "metadata": {
    "colab_type": "text",
    "id": "peA9CqHzIgyR"
   },
   "source": [
    "#Omniglot"
   ]
  },
  {
   "cell_type": "markdown",
   "metadata": {
    "colab_type": "text",
    "id": "48OyelLWJQYR"
   },
   "source": [
    "*The Omniglot* dataset is a collection of 1623 hand drawn characters from 50 alphabets. For every character there are just 20 examples, each drawn by a different person at resolution 105x105."
   ]
  },
  {
   "cell_type": "code",
   "execution_count": 0,
   "metadata": {
    "colab": {},
    "colab_type": "code",
    "id": "rJjxbj1QJT4_"
   },
   "outputs": [],
   "source": [
    "!unzip CMANN/images_evaluation.zip\n",
    "!unzip CMANN/images_background.zip"
   ]
  },
  {
   "cell_type": "code",
   "execution_count": 19,
   "metadata": {
    "colab": {
     "base_uri": "https://localhost:8080/",
     "height": 86
    },
    "colab_type": "code",
    "id": "-Mli7B2nJljE",
    "outputId": "0251203e-ee78-4d92-af74-fb72d8ab4082"
   },
   "outputs": [
    {
     "name": "stdout",
     "output_type": "stream",
     "text": [
      "Loading training set\n",
      "(964, 20, 105, 105)\n",
      "Now loading evaluation set\n",
      "(659, 20, 105, 105)\n"
     ]
    }
   ],
   "source": [
    "import os\n",
    "import numpy as np\n",
    "import matplotlib.image as mpimg\n",
    "\n",
    "data_path = \"\"\n",
    "train_path = os.path.join(data_path,'images_background')\n",
    "validation_path = os.path.join(data_path,'images_evaluation')\n",
    "\n",
    "def load_images_from_directory(path):\n",
    "    X=[]\n",
    "    \n",
    "    ## We load every alphabet seperately and append that to one tensor\n",
    "    for alphabet in os.listdir(path):\n",
    "        #print(\"loading alphabet: \" + alphabet)\n",
    "        alphabet_path = os.path.join(path,alphabet)\n",
    "        \n",
    "        ## Each character in alphabet is in a separate folder\n",
    "        for letter in os.listdir(alphabet_path):\n",
    "            #print(\" + letter: \" + letter)\n",
    "            category_images=[]\n",
    "            letter_path = os.path.join(alphabet_path, letter)\n",
    "        \n",
    "            \n",
    "            if not os.path.isdir(letter_path):\n",
    "                continue\n",
    "\n",
    "            ## Read every image in this directory\n",
    "            for filename in os.listdir(letter_path):\n",
    "                image_path = os.path.join(letter_path, filename)\n",
    "                image = mpimg.imread(image_path)\n",
    "                #print(image)\n",
    "                \n",
    "                \n",
    "                #TODO: recreate images with black pixels coordinate values\n",
    "                \n",
    "                \n",
    "                ### Image preprocessing!\n",
    "                #image = image/255\n",
    "                #image = 1-image\n",
    "                image = np.logical_not(image)\n",
    "                #print(image)           \n",
    "                \n",
    "                category_images.append(image)\n",
    "            \n",
    "            try:\n",
    "                X.append(np.array(category_images))\n",
    "            #edge case  - last one\n",
    "            except ValueError as e:\n",
    "                print(e)\n",
    "                print(\"error - category_images:\", category_images)\n",
    "    \n",
    "    X = np.array(X)\n",
    "    return X\n",
    "\n",
    "print(\"Loading training set\")\n",
    "Xtrain = load_images_from_directory(train_path)\n",
    "print(Xtrain.shape)\n",
    "\n",
    "print(\"Now loading evaluation set\")\n",
    "Xval = load_images_from_directory(validation_path)\n",
    "print(Xval.shape)"
   ]
  },
  {
   "cell_type": "code",
   "execution_count": 12,
   "metadata": {
    "colab": {
     "base_uri": "https://localhost:8080/",
     "height": 139
    },
    "colab_type": "code",
    "id": "jHsxmnlPNgm_",
    "outputId": "f305305e-4d99-4198-e967-614cdc1f2748"
   },
   "outputs": [
    {
     "name": "stdout",
     "output_type": "stream",
     "text": [
      "[[1. 1. 1. ... 1. 1. 1.]\n",
      " [1. 1. 1. ... 1. 1. 1.]\n",
      " [1. 1. 1. ... 1. 1. 1.]\n",
      " ...\n",
      " [1. 1. 1. ... 1. 1. 1.]\n",
      " [1. 1. 1. ... 1. 1. 1.]\n",
      " [1. 1. 1. ... 1. 1. 1.]]\n"
     ]
    }
   ],
   "source": [
    "print(Xtrain[0][1])"
   ]
  },
  {
   "cell_type": "code",
   "execution_count": 78,
   "metadata": {
    "cellView": "form",
    "colab": {
     "base_uri": "https://localhost:8080/",
     "height": 349
    },
    "colab_type": "code",
    "id": "6Lzrn79ENmN_",
    "outputId": "237c34a6-1f7f-4d74-d82c-6c27acabe4e3"
   },
   "outputs": [
    {
     "data": {
      "image/png": "[encoded data removed]",
      "text/plain": [
       "<Figure size 576x396 with 1 Axes>"
      ]
     },
     "metadata": {
      "tags": []
     },
     "output_type": "display_data"
    }
   ],
   "source": [
    "#@title Example Image to be displayed { run: \"auto\" }\n",
    "import matplotlib.pyplot as plt\n",
    "\n",
    "character = 114 #@param {type:\"integer\"}\n",
    "drawing = 17 #@param {type:\"slider\", min:0, max:19, step:1}\n",
    "image_set = 'Xval' #@param [\"Xval\", \"Xtrain\"]\n",
    "\n",
    "if (image_set == 'Xval'):\n",
    "    imgplot = plt.imshow(Xval[character,drawing])\n",
    "else:\n",
    "    imgplot = plt.imshow(Xtrain[character,drawing])"
   ]
  },
  {
   "cell_type": "code",
   "execution_count": 0,
   "metadata": {
    "colab": {},
    "colab_type": "code",
    "id": "Ct5DyzmNWjc3"
   },
   "outputs": [],
   "source": []
  }
 ],
 "metadata": {
  "colab": {
   "collapsed_sections": [],
   "include_colab_link": true,
   "name": "DistanceBasedLearning.ipynb",
   "provenance": [],
   "version": "0.3.2"
  },
  "kernelspec": {
   "display_name": "Python 3",
   "language": "python",
   "name": "python3"
  },
  "language_info": {
   "codemirror_mode": {
    "name": "ipython",
    "version": 3
   },
   "file_extension": ".py",
   "mimetype": "text/x-python",
   "name": "python",
   "nbconvert_exporter": "python",
   "pygments_lexer": "ipython3",
   "version": "3.6.7"
  }
 },
 "nbformat": 4,
 "nbformat_minor": 1
}
