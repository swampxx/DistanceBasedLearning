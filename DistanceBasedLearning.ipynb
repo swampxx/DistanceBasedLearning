{
  "nbformat": 4,
  "nbformat_minor": 0,
  "metadata": {
    "colab": {
      "name": "DistanceBasedLearning.ipynb",
      "version": "0.3.2",
      "provenance": [],
      "collapsed_sections": [
        "Ee_PILA4IJWN",
        "peA9CqHzIgyR",
        "P2YL-GHSV2zL",
        "3u3QOMrMWgkJ"
      ],
      "toc_visible": true,
      "include_colab_link": true
    },
    "kernelspec": {
      "name": "python3",
      "display_name": "Python 3"
    }
  },
  "cells": [
    {
      "cell_type": "markdown",
      "metadata": {
        "id": "view-in-github",
        "colab_type": "text"
      },
      "source": [
        "<a href=\"https://colab.research.google.com/github/swampxx/DistanceBasedLearning/blob/master/DistanceBasedLearning.ipynb\" target=\"_parent\"><img src=\"https://colab.research.google.com/assets/colab-badge.svg\" alt=\"Open In Colab\"/></a>"
      ]
    },
    {
      "metadata": {
        "id": "Ee_PILA4IJWN",
        "colab_type": "text"
      },
      "cell_type": "markdown",
      "source": [
        "# Dataset"
      ]
    },
    {
      "metadata": {
        "id": "lFcQMRGKIR7Z",
        "colab_type": "code",
        "outputId": "38137a87-69b3-4c9e-c267-881975974a0f",
        "colab": {
          "base_uri": "https://localhost:8080/",
          "height": 139
        }
      },
      "cell_type": "code",
      "source": [
        "#!rm -r CMANN\n",
        "#!git clone https://github.com/Orkun-tanik/CMANN.git"
      ],
      "execution_count": 0,
      "outputs": [
        {
          "output_type": "stream",
          "text": [
            "rm: cannot remove 'CMANN': No such file or directory\n",
            "Cloning into 'CMANN'...\n",
            "remote: Enumerating objects: 7, done.\u001b[K\n",
            "remote: Counting objects: 100% (7/7), done.\u001b[K\n",
            "remote: Compressing objects: 100% (5/5), done.\u001b[K\n",
            "remote: Total 7 (delta 0), reused 0 (delta 0), pack-reused 0\u001b[K\n",
            "Unpacking objects: 100% (7/7), done.\n"
          ],
          "name": "stdout"
        }
      ]
    },
    {
      "metadata": {
        "id": "peA9CqHzIgyR",
        "colab_type": "text"
      },
      "cell_type": "markdown",
      "source": [
        "#Omniglot"
      ]
    },
    {
      "metadata": {
        "id": "48OyelLWJQYR",
        "colab_type": "text"
      },
      "cell_type": "markdown",
      "source": [
        "*The Omniglot* dataset is a collection of 1623 hand drawn characters from 50 alphabets. For every character there are just 20 examples, each drawn by a different person at resolution 105x105."
      ]
    },
    {
      "metadata": {
        "id": "rJjxbj1QJT4_",
        "colab_type": "code",
        "colab": {}
      },
      "cell_type": "code",
      "source": [
        "#!unzip CMANN/images_evaluation.zip\n",
        "#!unzip CMANN/images_background.zip\n",
        "\n",
        "\"\"\"  Do not execute again!!  \"\"\""
      ],
      "execution_count": 0,
      "outputs": []
    },
    {
      "metadata": {
        "id": "K1GOfegpNEtZ",
        "colab_type": "code",
        "colab": {}
      },
      "cell_type": "code",
      "source": [
        "# Imports\n",
        "\n",
        "import os\n",
        "import numpy as np\n",
        "import matplotlib.image as mpimg"
      ],
      "execution_count": 0,
      "outputs": []
    },
    {
      "metadata": {
        "id": "vyQ4fqrQdBVB",
        "colab_type": "code",
        "colab": {}
      },
      "cell_type": "code",
      "source": [
        "def to_origin(image):\n",
        "    \"\"\"\n",
        "       Image: Black pixels labeled as True\n",
        "        \n",
        "       It moves the image towards the origin,\n",
        "                returns new_image and black pixels coordinates array: (new_image,blacks)  \n",
        "                \n",
        "    \"\"\"\n",
        "\n",
        "    x,y = image.shape\n",
        "    xshift = x\n",
        "    yshift = y\n",
        "\n",
        "    blacks = []\n",
        "\n",
        "    for i in range(x):\n",
        "        for j in range(y):\n",
        "            if image[i][j] == True:\n",
        "                blacks.append((i,j))\n",
        "                if i<xshift:\n",
        "                    xshift = i\n",
        "                if j<yshift:\n",
        "                    yshift = j\n",
        "\n",
        "    new_image = np.zeros(shape=(x,y))\n",
        "\n",
        "    for i in range(len(blacks)):\n",
        "        (a,b) = blacks[i]\n",
        "        blacks[i] = (a-xshift, b-yshift)\n",
        "        new_image[a-xshift][b-yshift] = 1\n",
        "    \n",
        "    blacks = np.array(blacks)\n",
        "\n",
        "    return (new_image, blacks)"
      ],
      "execution_count": 0,
      "outputs": []
    },
    {
      "metadata": {
        "id": "-Mli7B2nJljE",
        "colab_type": "code",
        "colab": {}
      },
      "cell_type": "code",
      "source": [
        "\n",
        "data_path = \"\"\n",
        "train_path = os.path.join(data_path,'images_background')\n",
        "validation_path = os.path.join(data_path,'images_evaluation')\n",
        "\n",
        "\n",
        "\n",
        "def load_images_from_directory(path):\n",
        "    X=[]\n",
        "\n",
        "    ## We load every alphabet seperately and append that to one tensor\n",
        "    for alphabet in os.listdir(path):\n",
        "        #print(\"loading alphabet: \" + alphabet)\n",
        "        alphabet_path = os.path.join(path,alphabet)\n",
        "        \n",
        "        ## Each character in alphabet is in a separate folder\n",
        "        for letter in os.listdir(alphabet_path):\n",
        "            #print(\" + letter: \" + letter)\n",
        "            category_images=[]\n",
        "            letter_path = os.path.join(alphabet_path, letter)\n",
        "        \n",
        "            \n",
        "            if not os.path.isdir(letter_path):\n",
        "                continue\n",
        "\n",
        "            ## Read every image in this directory\n",
        "            for filename in os.listdir(letter_path):\n",
        "                image_path = os.path.join(letter_path, filename)\n",
        "                image = mpimg.imread(image_path)\n",
        "                #print(image)\n",
        "                \n",
        "                \n",
        "                #TODO: recreate images with black pixels coordinate values\n",
        "                \n",
        "                \n",
        "                ### Image preprocessing!\n",
        "                #image = image/255\n",
        "                #image = 1-image\n",
        "                \n",
        "                image = np.logical_not(image)\n",
        "                #print(\"prepocessing image...\")\n",
        "                \n",
        "                new_image, _ = to_origin(image)\n",
        "                \n",
        "                \n",
        "                #print(\"done.\")\n",
        "                #print(image)           \n",
        "                \n",
        "                category_images.append(new_image)\n",
        "            \n",
        "            try:\n",
        "                X.append(np.array(category_images))\n",
        "            #edge case  - last one\n",
        "            except ValueError as e:\n",
        "                print(e)\n",
        "                print(\"error - category_images:\", category_images)\n",
        "    \n",
        "    X = np.array(X)\n",
        "\n",
        "    return X\n",
        "\n",
        "\n"
      ],
      "execution_count": 0,
      "outputs": []
    },
    {
      "metadata": {
        "id": "Gwvm2R90PCFK",
        "colab_type": "code",
        "colab": {}
      },
      "cell_type": "code",
      "source": [
        "print(\"Loading training set\")\n",
        "Xtrain = load_images_from_directory(train_path)\n",
        "print(Xtrain.shape)\n",
        "\n",
        "print(\"Now loading evaluation set\")\n",
        "Xval = load_images_from_directory(validation_path)\n",
        "print(Xval.shape)"
      ],
      "execution_count": 0,
      "outputs": []
    },
    {
      "metadata": {
        "id": "Zfwmw8MtrMlM",
        "colab_type": "code",
        "colab": {}
      },
      "cell_type": "code",
      "source": [
        "np.set_printoptions(threshold=np.inf)\n",
        "print(Xtrain[0,0])"
      ],
      "execution_count": 0,
      "outputs": []
    },
    {
      "metadata": {
        "id": "jHsxmnlPNgm_",
        "colab_type": "code",
        "colab": {}
      },
      "cell_type": "code",
      "source": [
        "np.save('Xtrain.npy', Xtrain)\n",
        "np.save('Xval.npy', Xval)"
      ],
      "execution_count": 0,
      "outputs": []
    },
    {
      "metadata": {
        "id": "pEaVm3uTuTpQ",
        "colab_type": "code",
        "colab": {}
      },
      "cell_type": "code",
      "source": [
        "Xtrain = np.load(\"Xtrain.npy\")\n",
        "Xval = np.load(\"Xval.npy\")"
      ],
      "execution_count": 0,
      "outputs": []
    },
    {
      "metadata": {
        "id": "6Lzrn79ENmN_",
        "colab_type": "code",
        "cellView": "both",
        "outputId": "47dfed0f-9225-48fa-8a0f-167b3a18fa72",
        "colab": {
          "base_uri": "https://localhost:8080/",
          "height": 269
        }
      },
      "cell_type": "code",
      "source": [
        "#@title Example Image to be displayed { run: \"auto\" }\n",
        "import matplotlib.pyplot as plt\n",
        "\n",
        "character = 270 #@param {type:\"integer\"}\n",
        "drawing = 16 #@param {type:\"slider\", min:0, max:19, step:1}\n",
        "image_set = 'Xtrain' #@param [\"Xval\", \"Xtrain\"]\n",
        "\n",
        "if (image_set == 'Xval'):\n",
        "    imgplot = plt.imshow(Xval[character,drawing])\n",
        "else:\n",
        "    imgplot = plt.imshow(Xtrain[character,drawing])"
      ],
      "execution_count": 30,
      "outputs": [
        {
          "output_type": "display_data",
          "data": {
            "text/plain": [
              "<Figure size 432x288 with 1 Axes>"
            ],
            "image/png": "[encoded data removed]"
          },
          "metadata": {
            "tags": [],
            "needs_background": "light"
          }
        }
      ]
    },
    {
      "metadata": {
        "id": "P2YL-GHSV2zL",
        "colab_type": "text"
      },
      "cell_type": "markdown",
      "source": [
        "# Latin Images"
      ]
    },
    {
      "metadata": {
        "id": "Ct5DyzmNWjc3",
        "colab_type": "code",
        "colab": {
          "base_uri": "https://localhost:8080/",
          "height": 52
        },
        "outputId": "9310dbb9-77ce-4271-ee40-3ac60ed2d9ce"
      },
      "cell_type": "code",
      "source": [
        "\n",
        "latin_path = \"Latin\"\n",
        "#latin_path_evaluation = \"images_evaluation\"\n",
        "\n",
        "print(\"Loading Latin alphabet..\")\n",
        "latin = load_images_from_directory(latin_path)\n",
        "print(latin.shape)"
      ],
      "execution_count": 203,
      "outputs": [
        {
          "output_type": "stream",
          "text": [
            "Loading Latin alphabet..\n",
            "(26, 20, 105, 105)\n"
          ],
          "name": "stdout"
        }
      ]
    },
    {
      "metadata": {
        "id": "N8lU37kuPT_j",
        "colab_type": "code",
        "colab": {
          "base_uri": "https://localhost:8080/",
          "height": 286
        },
        "cellView": "form",
        "outputId": "064bf359-3787-49e2-b268-707178e79328"
      },
      "cell_type": "code",
      "source": [
        "#@title Latin Images { run: \"auto\" }\n",
        "import matplotlib.pyplot as plt\n",
        "\n",
        "character = 0 #@param {type:\"slider\", min:0, max:25, step:1}\n",
        "drawing = 0 #@param {type:\"slider\", min:0, max:19, step:1}\n",
        "#image_set = 'Xtrain' #@param [\"Xval\", \"Xtrain\"]\n",
        "plt.imshow(latin[character,drawing])\n"
      ],
      "execution_count": 204,
      "outputs": [
        {
          "output_type": "execute_result",
          "data": {
            "text/plain": [
              "<matplotlib.image.AxesImage at 0x7f853f4dbba8>"
            ]
          },
          "metadata": {
            "tags": []
          },
          "execution_count": 204
        },
        {
          "output_type": "display_data",
          "data": {
            "text/plain": [
              "<Figure size 432x288 with 1 Axes>"
            ],
            "image/png": "[encoded data removed]"
          },
          "metadata": {
            "tags": [],
            "needs_background": "light"
          }
        }
      ]
    },
    {
      "metadata": {
        "id": "eiOL3XzPQE6c",
        "colab_type": "code",
        "colab": {}
      },
      "cell_type": "code",
      "source": [
        "# Extract random samples from each character of given alphabet\n",
        "\n",
        "def get_sample(alphabet):\n",
        "    \n",
        "    # alphabet numpy array [size, drawing, 105, 105]\n",
        "    \n",
        "    # returns samples and altered alphabet\n",
        "    character_count, drawing_count, _, _ = alphabet.shape\n",
        "    samples = []\n",
        "    new_alphabet = []    \n",
        "    for i in range(character_count):\n",
        "        rand = np.random.randint(0,drawing_count)\n",
        "        samples.append(alphabet[i,rand])\n",
        "        new_alphabet.append(np.delete(alphabet[i], rand, 0))  \n",
        "    \n",
        "    \n",
        "    samples = np.array(samples)\n",
        "    new_alphabet = np.array(new_alphabet)\n",
        "    \n",
        "    return samples, new_alphabet"
      ],
      "execution_count": 0,
      "outputs": []
    },
    {
      "metadata": {
        "id": "tmQanN0cR1L6",
        "colab_type": "code",
        "colab": {}
      },
      "cell_type": "code",
      "source": [
        "# Extract samples from latin alphabet\n",
        "samples, new_latin = get_sample(latin)"
      ],
      "execution_count": 0,
      "outputs": []
    },
    {
      "metadata": {
        "id": "nEtqxXxMU9LV",
        "colab_type": "code",
        "colab": {
          "base_uri": "https://localhost:8080/",
          "height": 286
        },
        "cellView": "both",
        "outputId": "f8cd5dd3-cf84-4148-e73f-499bb8bb0254"
      },
      "cell_type": "code",
      "source": [
        "#@title Sample Latin Images { run: \"auto\" }\n",
        "import matplotlib.pyplot as plt\n",
        "\n",
        "character = 24 #@param {type:\"slider\", min:0, max:25, step:1}\n",
        "#image_set = 'Xtrain' #@param [\"Xval\", \"Xtrain\"]\n",
        "plt.imshow(samples[character])"
      ],
      "execution_count": 172,
      "outputs": [
        {
          "output_type": "execute_result",
          "data": {
            "text/plain": [
              "<matplotlib.image.AxesImage at 0x7f8620eb8080>"
            ]
          },
          "metadata": {
            "tags": []
          },
          "execution_count": 172
        },
        {
          "output_type": "display_data",
          "data": {
            "text/plain": [
              "<Figure size 432x288 with 1 Axes>"
            ],
            "image/png": "[encoded data removed]"
          },
          "metadata": {
            "tags": [],
            "needs_background": "light"
          }
        }
      ]
    },
    {
      "metadata": {
        "id": "IIxwKGRMWK3f",
        "colab_type": "text"
      },
      "cell_type": "markdown",
      "source": [
        "***These sample latin images will be used for testing distance functions. ***"
      ]
    },
    {
      "metadata": {
        "id": "3u3QOMrMWgkJ",
        "colab_type": "text"
      },
      "cell_type": "markdown",
      "source": [
        "# Experiments\n",
        "\n",
        "\n",
        "---\n",
        "\n",
        "\n",
        "*In this section,  there are experiments of distance functions for one-shot learning . Follow the headers for distance functions properties.*\n",
        "\n",
        "\n",
        "\n",
        "---\n",
        "\n"
      ]
    },
    {
      "metadata": {
        "id": "ftfT02r3X1Sw",
        "colab_type": "text"
      },
      "cell_type": "markdown",
      "source": [
        "## Elementary Distance Functions\n",
        "\n",
        "---\n",
        "* Minkowski Family\n",
        "> *   Euclidean \n",
        "> *   Manhattan\n",
        "> *  LP Norm Distance Function\n",
        "\n",
        "* Angular Distance Functions\n",
        ">* Cosine Similarity"
      ]
    },
    {
      "metadata": {
        "id": "qAm6NfqFamzz",
        "colab_type": "text"
      },
      "cell_type": "markdown",
      "source": [
        "### Euclidean\n",
        "---\n",
        "Euclidean distance is a special case of Minkowski distance with $\\lambda=2$\n",
        "\n",
        "$Euclidean(\\vec{x}, \\vec{y}):= \\sqrt{\\sum_i(x_i-y_i)^2}$\n",
        "\n",
        "In this section, we will consider only the euclidean distance between images, namely only euclidean distance is used for classify latin characters."
      ]
    },
    {
      "metadata": {
        "id": "UdwdLaLYamkt",
        "colab_type": "code",
        "colab": {
          "base_uri": "https://localhost:8080/",
          "height": 289
        },
        "cellView": "form",
        "outputId": "5d26e8b4-a1ef-4a72-efa2-a45183087aaa"
      },
      "cell_type": "code",
      "source": [
        "#@title Standard Euclidean Distance Function { run: \"auto\" }\n",
        "#@markdown It transforms images to 1D vectors by numpy flatten function\n",
        "from scipy.spatial.distance import euclidean\n",
        "import matplotlib.pyplot as plt\n",
        "\n",
        "def euclidean_distance_std(x,y):\n",
        "    \"\"\"\n",
        "        params: x and y images\n",
        "        \n",
        "        To apply eucl. distance It transforms images to 1D vectors by numpy.flatten()\n",
        "        \n",
        "        return: euclidean distance between two images\n",
        "       \n",
        "    \"\"\"\n",
        "    \n",
        "    \n",
        "    vector_1 = x.flatten()\n",
        "    vector_2 = y.flatten()\n",
        "    \n",
        "    return euclidean(vector_1, vector_2)\n",
        "\n",
        "character1 = 16 #@param {type:\"slider\", min:0, max:25, step:1}\n",
        "drawing1 = 7 #@param {type:\"slider\", min:0, max:19, step:1}\n",
        "\n",
        "character2 = 7 #@param {type:\"slider\", min:0, max:25, step:1}\n",
        "drawing2 = 4 #@param {type:\"slider\", min:0, max:18, step:1}\n",
        "\n",
        "#image_set = 'Latin' #@param [\"Xval\", \"Xtrain\"]\n",
        "print(latin.shape)\n",
        "fig=plt.figure(figsize=(8, 8))\n",
        "fig.add_subplot(1, 2, 1)\n",
        "imgplot = plt.imshow(new_latin[character1,drawing1])\n",
        "fig.add_subplot(1, 2, 2)\n",
        "imgplot = plt.imshow(new_latin[character2,drawing2])\n",
        "\n",
        "\n",
        "print(\"standard euclidean distance: \", euclidean_distance_std(new_latin[character1,drawing1],new_latin[character2,drawing2]))\n"
      ],
      "execution_count": 237,
      "outputs": [
        {
          "output_type": "stream",
          "text": [
            "(26, 20, 105, 105)\n",
            "standard euclidean distance:  33.45145736735546\n"
          ],
          "name": "stdout"
        },
        {
          "output_type": "display_data",
          "data": {
            "text/plain": [
              "<Figure size 576x576 with 2 Axes>"
            ],
            "image/png": "[encoded data removed]"
          },
          "metadata": {
            "tags": [],
            "needs_background": "light"
          }
        }
      ]
    },
    {
      "metadata": {
        "id": "Gi3oU9xIfR1w",
        "colab_type": "code",
        "colab": {
          "base_uri": "https://localhost:8080/",
          "height": 34
        },
        "outputId": "bbd6dd41-7802-422c-b1b3-5751915e8f6b"
      },
      "cell_type": "code",
      "source": [
        ""
      ],
      "execution_count": 170,
      "outputs": [
        {
          "output_type": "stream",
          "text": [
            "36.24913792078372\n"
          ],
          "name": "stdout"
        }
      ]
    }
  ]
}