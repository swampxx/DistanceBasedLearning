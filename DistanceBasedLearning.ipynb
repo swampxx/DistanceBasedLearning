{
  "nbformat": 4,
  "nbformat_minor": 0,
  "metadata": {
    "colab": {
      "name": "DistanceBasedLearning.ipynb",
      "version": "0.3.2",
      "provenance": [],
      "collapsed_sections": [
        "Ee_PILA4IJWN",
        "peA9CqHzIgyR",
        "ftfT02r3X1Sw",
        "qAm6NfqFamzz",
        "eQCEm94jHrNg",
        "K6DF2HCgzNoO",
        "YkH--BQHNsON",
        "fV7cYZNuNuoS"
      ],
      "toc_visible": true
    },
    "kernelspec": {
      "name": "python3",
      "display_name": "Python 3"
    }
  },
  "cells": [
    {
      "metadata": {
        "id": "Ee_PILA4IJWN",
        "colab_type": "text"
      },
      "cell_type": "markdown",
      "source": [
        "# Dataset"
      ]
    },
    {
      "metadata": {
        "id": "lFcQMRGKIR7Z",
        "colab_type": "code",
        "colab": {}
      },
      "cell_type": "code",
      "source": [
        "#!rm -r CMANN\n",
        "#!git clone https://github.com/Orkun-tanik/CMANN.git"
      ],
      "execution_count": 0,
      "outputs": []
    },
    {
      "metadata": {
        "id": "peA9CqHzIgyR",
        "colab_type": "text"
      },
      "cell_type": "markdown",
      "source": [
        "#Omniglot"
      ]
    },
    {
      "metadata": {
        "id": "48OyelLWJQYR",
        "colab_type": "text"
      },
      "cell_type": "markdown",
      "source": [
        "*The Omniglot* dataset is a collection of 1623 hand drawn characters from 50 alphabets. For every character there are just 20 examples, each drawn by a different person at resolution 105x105."
      ]
    },
    {
      "metadata": {
        "id": "rJjxbj1QJT4_",
        "colab_type": "code",
        "outputId": "91c655ea-fa16-4b98-dbda-586440982619",
        "colab": {
          "base_uri": "https://localhost:8080/",
          "height": 0
        }
      },
      "cell_type": "code",
      "source": [
        "#!unzip CMANN/images_evaluation.zip\n",
        "#!unzip CMANN/images_background.zip\n",
        "\n",
        "\"\"\"  Do not execute again!!  \"\"\""
      ],
      "execution_count": 2,
      "outputs": [
        {
          "output_type": "execute_result",
          "data": {
            "text/plain": [
              "'  Do not execute again!!  '"
            ]
          },
          "metadata": {
            "tags": []
          },
          "execution_count": 2
        }
      ]
    },
    {
      "metadata": {
        "id": "K1GOfegpNEtZ",
        "colab_type": "code",
        "colab": {}
      },
      "cell_type": "code",
      "source": [
        "# Imports\n",
        "\n",
        "import os\n",
        "import numpy as np\n",
        "import matplotlib.image as mpimg"
      ],
      "execution_count": 0,
      "outputs": []
    },
    {
      "metadata": {
        "id": "vyQ4fqrQdBVB",
        "colab_type": "code",
        "colab": {}
      },
      "cell_type": "code",
      "source": [
        "def to_origin(image):\n",
        "    \"\"\"\n",
        "       Image: Black pixels labeled as True\n",
        "        \n",
        "       It moves the image towards the origin,\n",
        "                returns new_image and black pixels coordinates array: (new_image,blacks)  \n",
        "                \n",
        "    \"\"\"\n",
        "\n",
        "    x,y = image.shape\n",
        "    xshift = x\n",
        "    yshift = y\n",
        "\n",
        "    blacks = []\n",
        "\n",
        "    for i in range(x):\n",
        "        for j in range(y):\n",
        "            if image[i][j] == True:\n",
        "                blacks.append((i,j))\n",
        "                if i<xshift:\n",
        "                    xshift = i\n",
        "                if j<yshift:\n",
        "                    yshift = j\n",
        "\n",
        "    new_image = np.zeros(shape=(x,y))\n",
        "\n",
        "    for i in range(len(blacks)):\n",
        "        (a,b) = blacks[i]\n",
        "        blacks[i] = (a-xshift, b-yshift)\n",
        "        new_image[a-xshift][b-yshift] = 1\n",
        "    \n",
        "    blacks = np.array(blacks)\n",
        "\n",
        "    return (new_image, blacks)"
      ],
      "execution_count": 0,
      "outputs": []
    },
    {
      "metadata": {
        "id": "-Mli7B2nJljE",
        "colab_type": "code",
        "colab": {}
      },
      "cell_type": "code",
      "source": [
        "\n",
        "data_path = \"\"\n",
        "train_path = os.path.join(data_path,'images_background')\n",
        "validation_path = os.path.join(data_path,'images_evaluation')\n",
        "\n",
        "\n",
        "\n",
        "def load_images_from_directory(path):\n",
        "    X=[]\n",
        "\n",
        "    ## We load every alphabet seperately and append that to one tensor\n",
        "    for alphabet in os.listdir(path):\n",
        "        #print(\"loading alphabet: \" + alphabet)\n",
        "        alphabet_path = os.path.join(path,alphabet)\n",
        "        \n",
        "        ## Each character in alphabet is in a separate folder\n",
        "        for letter in os.listdir(alphabet_path):\n",
        "            #print(\" + letter: \" + letter)\n",
        "            category_images=[]\n",
        "            letter_path = os.path.join(alphabet_path, letter)\n",
        "        \n",
        "            \n",
        "            if not os.path.isdir(letter_path):\n",
        "                continue\n",
        "\n",
        "            ## Read every image in this directory\n",
        "            for filename in os.listdir(letter_path):\n",
        "                image_path = os.path.join(letter_path, filename)\n",
        "                image = mpimg.imread(image_path)\n",
        "                #print(image)\n",
        "                \n",
        "                \n",
        "                #TODO: recreate images with black pixels coordinate values\n",
        "                \n",
        "                \n",
        "                ### Image preprocessing!\n",
        "                #image = image/255\n",
        "                #image = 1-image\n",
        "                \n",
        "                image = np.logical_not(image)\n",
        "                #print(\"prepocessing image...\")\n",
        "                \n",
        "                new_image, _ = to_origin(image)\n",
        "                \n",
        "                \n",
        "                #print(\"done.\")\n",
        "                #print(image)           \n",
        "                \n",
        "                category_images.append(new_image)\n",
        "            \n",
        "            try:\n",
        "                X.append(np.array(category_images))\n",
        "            #edge case  - last one\n",
        "            except ValueError as e:\n",
        "                print(e)\n",
        "                print(\"error - category_images:\", category_images)\n",
        "    \n",
        "    X = np.array(X)\n",
        "\n",
        "    return X\n",
        "\n",
        "\n"
      ],
      "execution_count": 0,
      "outputs": []
    },
    {
      "metadata": {
        "id": "Gwvm2R90PCFK",
        "colab_type": "code",
        "outputId": "18140953-fc6a-4766-adfe-a90f80d03d13",
        "colab": {
          "base_uri": "https://localhost:8080/",
          "height": 0
        }
      },
      "cell_type": "code",
      "source": [
        "print(\"Loading training set\")\n",
        "#Xtrain = load_images_from_directory(train_path)\n",
        "#print(Xtrain.shape)\n",
        "\n",
        "print(\"Now loading evaluation set\")\n",
        "#Xval = load_images_from_directory(validation_path)\n",
        "#print(Xval.shape)"
      ],
      "execution_count": 6,
      "outputs": [
        {
          "output_type": "stream",
          "text": [
            "Loading training set\n",
            "Now loading evaluation set\n"
          ],
          "name": "stdout"
        }
      ]
    },
    {
      "metadata": {
        "id": "jHsxmnlPNgm_",
        "colab_type": "code",
        "colab": {}
      },
      "cell_type": "code",
      "source": [
        "#np.save('Xtrain.npy', Xtrain)\n",
        "#np.save('Xval.npy', Xval)"
      ],
      "execution_count": 0,
      "outputs": []
    },
    {
      "metadata": {
        "id": "pEaVm3uTuTpQ",
        "colab_type": "code",
        "colab": {}
      },
      "cell_type": "code",
      "source": [
        "#Xtrain = np.load(\"Xtrain.npy\")\n",
        "#Xval = np.load(\"Xval.npy\")"
      ],
      "execution_count": 0,
      "outputs": []
    },
    {
      "metadata": {
        "id": "6Lzrn79ENmN_",
        "colab_type": "code",
        "cellView": "both",
        "outputId": "1caf6697-8436-4bd8-b073-b61210e78f1e",
        "colab": {
          "base_uri": "https://localhost:8080/",
          "height": 0
        }
      },
      "cell_type": "code",
      "source": [
        "\"\"\"#@title Example Image to be displayed { run: \"auto\" }\n",
        "import matplotlib.pyplot as plt\n",
        "\n",
        "character = 270 #@param {type:\"integer\"}\n",
        "drawing = 16 #@param {type:\"slider\", min:0, max:19, step:1}\n",
        "image_set = 'Xtrain' #@param [\"Xval\", \"Xtrain\"]\n",
        "\n",
        "if (image_set == 'Xval'):\n",
        "    imgplot = plt.imshow(Xval[character,drawing])\n",
        "else:\n",
        "    imgplot = plt.imshow(Xtrain[character,drawing])\"\"\""
      ],
      "execution_count": 9,
      "outputs": [
        {
          "output_type": "execute_result",
          "data": {
            "text/plain": [
              "'#@title Example Image to be displayed { run: \"auto\" }\\nimport matplotlib.pyplot as plt\\n\\ncharacter = 270 #@param {type:\"integer\"}\\ndrawing = 16 #@param {type:\"slider\", min:0, max:19, step:1}\\nimage_set = \\'Xtrain\\' #@param [\"Xval\", \"Xtrain\"]\\n\\nif (image_set == \\'Xval\\'):\\n    imgplot = plt.imshow(Xval[character,drawing])\\nelse:\\n    imgplot = plt.imshow(Xtrain[character,drawing])'"
            ]
          },
          "metadata": {
            "tags": []
          },
          "execution_count": 9
        }
      ]
    },
    {
      "metadata": {
        "id": "P2YL-GHSV2zL",
        "colab_type": "text"
      },
      "cell_type": "markdown",
      "source": [
        "# Latin Images"
      ]
    },
    {
      "metadata": {
        "id": "Ct5DyzmNWjc3",
        "colab_type": "code",
        "outputId": "d635c18a-4b88-42ff-c5e6-fec98d41aed6",
        "colab": {
          "base_uri": "https://localhost:8080/",
          "height": 52
        }
      },
      "cell_type": "code",
      "source": [
        "\n",
        "latin_path = \"Latin\"\n",
        "#latin_path_evaluation = \"images_evaluation\"\n",
        "\n",
        "print(\"Loading Latin alphabet..\")\n",
        "latin = load_images_from_directory(latin_path)\n",
        "print(latin.shape)"
      ],
      "execution_count": 10,
      "outputs": [
        {
          "output_type": "stream",
          "text": [
            "Loading Latin alphabet..\n",
            "(26, 20, 105, 105)\n"
          ],
          "name": "stdout"
        }
      ]
    },
    {
      "metadata": {
        "id": "N8lU37kuPT_j",
        "colab_type": "code",
        "cellView": "both",
        "outputId": "179794a7-4265-43b7-ce6f-38e883b15d54",
        "colab": {
          "base_uri": "https://localhost:8080/",
          "height": 34
        }
      },
      "cell_type": "code",
      "source": [
        "#@title Latin Images { run: \"auto\" }\n",
        "import matplotlib.pyplot as plt\n",
        "\n",
        "character = 0 #@param {type:\"slider\", min:0, max:25, step:1}\n",
        "drawing = 0 #@param {type:\"slider\", min:0, max:19, step:1}\n",
        "#image_set = 'Xtrain' #@param [\"Xval\", \"Xtrain\"]\n",
        "plt.imshow(latin[character,drawing])\n"
      ],
      "execution_count": 11,
      "outputs": [
        {
          "output_type": "execute_result",
          "data": {
            "text/plain": [
              "<matplotlib.image.AxesImage at 0x7f2e6826b5c0>"
            ]
          },
          "metadata": {
            "tags": []
          },
          "execution_count": 11
        }
      ]
    },
    {
      "metadata": {
        "id": "eiOL3XzPQE6c",
        "colab_type": "code",
        "colab": {}
      },
      "cell_type": "code",
      "source": [
        "\n",
        "def black_pixels(image):\n",
        "    \"\"\"\n",
        "       returns black pixel coordinates of image, array-like\n",
        "    \"\"\"\n",
        "    \n",
        "    x,y = image.shape\n",
        "    blacks = []\n",
        "    for i in range(x):\n",
        "        for j in range(y):\n",
        "            if image[i][j] == True:\n",
        "                blacks.append((i,j)) \n",
        "\n",
        "\n",
        "\n",
        "    return np.array(blacks)\n",
        "\n",
        "# Extract random samples from each character of given alphabet\n",
        "\n",
        "def get_sample(alphabet):\n",
        "    \n",
        "    \"\"\"\n",
        "        alphabet numpy array [size, drawing, 105, 105]\n",
        "    \n",
        "        returns samples and altered alphabet\n",
        "    \"\"\"\n",
        "    character_count, drawing_count, _, _ = alphabet.shape\n",
        "    samples = []\n",
        "    new_alphabet = []    \n",
        "    for i in range(character_count):\n",
        "        rand = np.random.randint(0,drawing_count)\n",
        "        samples.append(alphabet[i,rand])\n",
        "        new_alphabet.append(np.delete(alphabet[i], rand, 0))  \n",
        "    \n",
        "    \n",
        "    samples = np.array(samples)\n",
        "    new_alphabet = np.array(new_alphabet)\n",
        "    \n",
        "    return samples, new_alphabet"
      ],
      "execution_count": 0,
      "outputs": []
    },
    {
      "metadata": {
        "id": "tmQanN0cR1L6",
        "colab_type": "code",
        "colab": {}
      },
      "cell_type": "code",
      "source": [
        "# Extract samples from latin alphabet\n",
        "latin_samples, new_latin = get_sample(latin)"
      ],
      "execution_count": 0,
      "outputs": []
    },
    {
      "metadata": {
        "id": "nEtqxXxMU9LV",
        "colab_type": "code",
        "cellView": "both",
        "outputId": "a665c778-8e4b-4799-a92d-88c19e4f18ec",
        "colab": {
          "base_uri": "https://localhost:8080/",
          "height": 286
        }
      },
      "cell_type": "code",
      "source": [
        "#@title Sample Latin Images { run: \"auto\" }\n",
        "import matplotlib.pyplot as plt\n",
        "\n",
        "character = 25 #@param {type:\"slider\", min:0, max:25, step:1}\n",
        "#image_set = 'Xtrain' #@param [\"Xval\", \"Xtrain\"]\n",
        "plt.imshow(latin_samples[character])"
      ],
      "execution_count": 175,
      "outputs": [
        {
          "output_type": "execute_result",
          "data": {
            "text/plain": [
              "<matplotlib.image.AxesImage at 0x7f2e602e1ac8>"
            ]
          },
          "metadata": {
            "tags": []
          },
          "execution_count": 175
        },
        {
          "output_type": "display_data",
          "data": {
            "text/plain": [
              "<Figure size 432x288 with 1 Axes>"
            ],
            "image/png": "[encoded data removed]"
          },
          "metadata": {
            "tags": [],
            "needs_background": "light"
          }
        }
      ]
    },
    {
      "metadata": {
        "id": "IIxwKGRMWK3f",
        "colab_type": "text"
      },
      "cell_type": "markdown",
      "source": [
        "***These sample latin images will be used for testing distance functions. ***"
      ]
    },
    {
      "metadata": {
        "id": "ZBGpCUBudPfM",
        "colab_type": "text"
      },
      "cell_type": "markdown",
      "source": [
        "# Greek Images\n"
      ]
    },
    {
      "metadata": {
        "id": "zbwc4pR9dasc",
        "colab_type": "code",
        "colab": {
          "base_uri": "https://localhost:8080/",
          "height": 52
        },
        "outputId": "0c6983a5-f4e2-4065-dd50-d6b29dfa6262"
      },
      "cell_type": "code",
      "source": [
        "\n",
        "greek_path = \"Greek\"\n",
        "#latin_path_evaluation = \"images_evaluation\"\n",
        "\n",
        "print(\"Loading Latin alphabet..\")\n",
        "greek = load_images_from_directory(greek_path)\n",
        "print(greek.shape)"
      ],
      "execution_count": 156,
      "outputs": [
        {
          "output_type": "stream",
          "text": [
            "Loading Latin alphabet..\n",
            "(24, 20, 105, 105)\n"
          ],
          "name": "stdout"
        }
      ]
    },
    {
      "metadata": {
        "id": "8FBQWGFEdyf5",
        "colab_type": "code",
        "colab": {
          "base_uri": "https://localhost:8080/",
          "height": 286
        },
        "cellView": "form",
        "outputId": "d3a001fa-fd0d-400c-992f-ef11709d3ec6"
      },
      "cell_type": "code",
      "source": [
        "#@title Greek Images { run: \"auto\" }\n",
        "import matplotlib.pyplot as plt\n",
        "\n",
        "character = 0 #@param {type:\"slider\", min:0, max:25, step:1}\n",
        "drawing = 0 #@param {type:\"slider\", min:0, max:19, step:1}\n",
        "#image_set = 'Xtrain' #@param [\"Xval\", \"Xtrain\"]\n",
        "plt.imshow(greek[character,drawing])"
      ],
      "execution_count": 157,
      "outputs": [
        {
          "output_type": "execute_result",
          "data": {
            "text/plain": [
              "<matplotlib.image.AxesImage at 0x7f2e6074b940>"
            ]
          },
          "metadata": {
            "tags": []
          },
          "execution_count": 157
        },
        {
          "output_type": "display_data",
          "data": {
            "text/plain": [
              "<Figure size 432x288 with 1 Axes>"
            ],
            "image/png": "[encoded data removed]"
          },
          "metadata": {
            "tags": [],
            "needs_background": "light"
          }
        }
      ]
    },
    {
      "metadata": {
        "id": "_wl7kyGMd6Rq",
        "colab_type": "code",
        "colab": {}
      },
      "cell_type": "code",
      "source": [
        "# Extract samples from latin alphabet\n",
        "greek_samples, new_greek = get_sample(greek)"
      ],
      "execution_count": 0,
      "outputs": []
    },
    {
      "metadata": {
        "id": "sVN57oPWd_KJ",
        "colab_type": "code",
        "colab": {
          "base_uri": "https://localhost:8080/",
          "height": 286
        },
        "outputId": "1f6d1a93-62b3-4b1c-d7e4-94860e72918b"
      },
      "cell_type": "code",
      "source": [
        "#@title Sample Greek Images { run: \"auto\" }\n",
        "import matplotlib.pyplot as plt\n",
        "\n",
        "character = 23 #@param {type:\"slider\", min:0, max:23, step:1}\n",
        "#image_set = 'Xtrain' #@param [\"Xval\", \"Xtrain\"]\n",
        "plt.imshow(greek_samples[character])"
      ],
      "execution_count": 171,
      "outputs": [
        {
          "output_type": "execute_result",
          "data": {
            "text/plain": [
              "<matplotlib.image.AxesImage at 0x7f2e605027f0>"
            ]
          },
          "metadata": {
            "tags": []
          },
          "execution_count": 171
        },
        {
          "output_type": "display_data",
          "data": {
            "text/plain": [
              "<Figure size 432x288 with 1 Axes>"
            ],
            "image/png": "[encoded data removed]"
          },
          "metadata": {
            "tags": [],
            "needs_background": "light"
          }
        }
      ]
    },
    {
      "metadata": {
        "id": "3u3QOMrMWgkJ",
        "colab_type": "text"
      },
      "cell_type": "markdown",
      "source": [
        "# Experiments\n",
        "\n",
        "\n",
        "---\n",
        "\n",
        "\n",
        "*In this section,  there are experiments of distance functions for one-shot learning . Follow the headers for distance functions properties.*\n",
        "\n",
        "\n",
        "\n",
        "---\n",
        "\n"
      ]
    },
    {
      "metadata": {
        "id": "ftfT02r3X1Sw",
        "colab_type": "text"
      },
      "cell_type": "markdown",
      "source": [
        "## Elementary Distance Functions\n",
        "\n",
        "\n",
        "\n",
        "\n",
        "\n",
        "---\n",
        "* Minkowski Family\n",
        "> *   Euclidean \n",
        "> *   Manhattan\n",
        "> *  LP Norm Distance Function\n",
        "\n",
        "* Angular Distance Functions\n",
        ">* Cosine Similarity"
      ]
    },
    {
      "metadata": {
        "id": "qAm6NfqFamzz",
        "colab_type": "text"
      },
      "cell_type": "markdown",
      "source": [
        ">### Euclidean\n",
        "---\n",
        "Euclidean distance is a special case of Minkowski distance with $\\lambda=2$\n",
        "\n",
        "$Euclidean(\\vec{x}, \\vec{y}):= \\sqrt{\\sum_i(x_i-y_i)^2}$\n"
      ]
    },
    {
      "metadata": {
        "id": "_h3gndV8_LcA",
        "colab_type": "code",
        "colab": {}
      },
      "cell_type": "code",
      "source": [
        "import scipy.spatial.distance as distance\n",
        "import matplotlib.pyplot as plt\n",
        "import math\n",
        "\n",
        "def mins_helper(arr):\n",
        "    \n",
        "    indexed_used = []\n",
        "    for i in range(len(arr)):\n",
        "\n",
        "        row_min = np.argmin(arr[i])\n",
        "        if row_min in indexed_used:\n",
        "            new_row = arr[i]\n",
        "            new_row[row_min] = 999\n",
        "            row_min = np.argmin(new_row)     \n",
        "        \n",
        "        indexed_used.append(row_min)\n",
        "    \n",
        "    return indexed_used\n",
        "\n",
        "def euclidean_distance_std(img1,img2):\n",
        "    \"\"\"\n",
        "        params: x and y images\n",
        "        \n",
        "        To apply eucl. distance It transforms images to 1D vectors by flatten()\n",
        "        \n",
        "        return: euclidean distance between two images\n",
        "       \n",
        "    \"\"\"\n",
        "    \n",
        "    \n",
        "    v1 = img1.flatten()\n",
        "    v2 = img2.flatten()\n",
        "    \n",
        "    return distance.euclidean(v1, v2)\n",
        "\n",
        "\n",
        "    \n",
        "    \n",
        "def euclidean_distance_modified(img1,img2):\n",
        "    \"\"\"\n",
        "        params: img1 and img2 images\n",
        "        \n",
        "        It extracts each black pixels from images, find their coordinates on\n",
        "        x-y plane by taking origin as a reference.\n",
        "        \n",
        "        Then, computes distance between all pixel pairs and sums minimum\n",
        "        distance along axis=1 (row based).\n",
        "        \n",
        "        can be normalized, divides with biggest distance on the plane\n",
        "        diagonal sqrt(max_x**2+max_y**2)\n",
        "        \n",
        "        returns: modified euclidean distance\n",
        "        \n",
        "    \"\"\"\n",
        "    max_x, max_y = img1.shape\n",
        "    \n",
        "    v1 = black_pixels(img1)\n",
        "    v2 = black_pixels(img2)\n",
        "    \n",
        "    #print(\"black pixel count of img1: \", v1.shape )\n",
        "    \n",
        "    #print(\"black pixel count of img1: \", v2.shape )\n",
        "    \n",
        "    # Number of black pixels is not same for every image pair.\n",
        "    \n",
        "    # Randomly select black pixels from larger one\n",
        "    randoms = np.random.permutation(min(len(v1), len(v2)))\n",
        "    \n",
        "    if len(v1) < len(v2) :\n",
        "        v2 = v2[randoms[:]]\n",
        "    else:\n",
        "        v1 = v1[randoms[:]]\n",
        "    \n",
        "    \n",
        "    dist = distance.cdist(v1,v2,'euclidean')\n",
        "    \n",
        "    difference_sum = np.mean(np.amin(dist,axis=1))\n",
        "    \n",
        "    return difference_sum\n",
        "\n",
        "def euclidean_distance_modified_v2(img1,img2):\n",
        "    \"\"\"\n",
        "        params: img1 and img2 images\n",
        "        \n",
        "        It extracts each black pixels from images, find their coordinates on\n",
        "        x-y plane by taking origin as a reference.\n",
        "        \n",
        "        Then, computes distance between all pixel pairs and sums minimum\n",
        "        distance along axis=1 (row based).\n",
        "        \n",
        "        can be normalized, divides with biggest distance on the plane\n",
        "        diagonal sqrt(max_x**2+max_y**2)\n",
        "        \n",
        "        returns: modified euclidean distance\n",
        "        \n",
        "    \"\"\"\n",
        "    max_x, max_y = img1.shape\n",
        "    \n",
        "    v1 = black_pixels(img1)\n",
        "    v2 = black_pixels(img2)\n",
        "    \n",
        "    \n",
        "    # Number of black pixels is not same for every image pair.\n",
        "    \n",
        "    # Randomly select black pixels from larger one\n",
        "    randoms = np.random.permutation(min(len(v1), len(v2)))\n",
        "    \n",
        "    if len(v1) < len(v2) :\n",
        "        v2 = v2[randoms[:]]\n",
        "    else:\n",
        "        v1 = v1[randoms[:]]\n",
        "    \n",
        "    \n",
        "    dist = distance.cdist(v1,v2,'euclidean')\n",
        "    \n",
        "    d = mins_helper(dist)\n",
        "    sum = 0\n",
        "    for i in range(len(dist)):\n",
        "        sum += dist[i,d[i]]\n",
        "    return sum/len(dist)"
      ],
      "execution_count": 0,
      "outputs": []
    },
    {
      "metadata": {
        "id": "eQCEm94jHrNg",
        "colab_type": "text"
      },
      "cell_type": "markdown",
      "source": [
        "### Manhattan\n",
        "---\n",
        "Manhattan distance is a special case of Minkowski distance with $\\lambda=1$\n",
        "\n",
        "$Manhattan(\\vec{x}, \\vec{y}):= \\sqrt{\\sum\\limits_i |x_i-y_i|}$\n",
        "\n",
        "Since flatten function is used, standard manhattan distance can be deceptive.\n",
        "\n",
        "A modified Manhattan distance will be more informative}."
      ]
    },
    {
      "metadata": {
        "id": "IO1gM_mIIikv",
        "colab_type": "code",
        "colab": {}
      },
      "cell_type": "code",
      "source": [
        "def manhattan_distance_std(img1,img2):\n",
        "    \"\"\"\n",
        "        params: img1 and img2 images\n",
        "        \n",
        "        To apply eucl. distance It transforms images to 1D vectors by flatten()\n",
        "        \n",
        "        return: euclidean distance between two images\n",
        "       \n",
        "    \"\"\"\n",
        "    \n",
        "    \n",
        "    v1 = img1.flatten()\n",
        "    v2 = img2.flatten()\n",
        "    \n",
        "    return distance.cityblock(v1, v2)\n",
        "\n",
        "def manhattan_distance_modified(img1,img2):\n",
        "    \"\"\"\n",
        "        params: images\n",
        "        \n",
        "        Like modified euclidean, finds coordinates of black pixels, then\n",
        "        computes distance.\n",
        "        \n",
        "        \n",
        "        return manhattan distance between two images\n",
        "    \"\"\"\n",
        "    max_x, max_y = img1.shape\n",
        "    \n",
        "    v1 = black_pixels(img1)\n",
        "    v2 = black_pixels(img2)\n",
        "    \n",
        "    # Number of black pixels is not same for every image pair.\n",
        "    \n",
        "    # Randomly select black pixels from larger one\n",
        "    randoms = np.random.permutation(min(len(v1), len(v2)))\n",
        "    \n",
        "    if len(v1) < len(v2) :\n",
        "        v2 = v2[randoms[:]]\n",
        "    else:\n",
        "        v1 = v1[randoms[:]]\n",
        "    \n",
        "    \n",
        "    dist = distance.cdist(v1,v2,'cityblock')\n",
        "    \n",
        "    difference_sum = np.sum(np.amin(dist,axis=1))/len(dist)\n",
        "    \n",
        "    return difference_sum"
      ],
      "execution_count": 0,
      "outputs": []
    },
    {
      "metadata": {
        "id": "K6DF2HCgzNoO",
        "colab_type": "text"
      },
      "cell_type": "markdown",
      "source": [
        "### Cosine Similarity\n",
        "\n",
        "$CosineSimilarity(\\vec{x} , \\vec{y}) =\\dfrac{\\vec{x}.\\vec{y}}{||a||.||b||} $\n"
      ]
    },
    {
      "metadata": {
        "id": "oRr5_Pwm3N-y",
        "colab_type": "code",
        "colab": {}
      },
      "cell_type": "code",
      "source": [
        "def cosine_distance_std(img1, img2):\n",
        "    \n",
        "    v1 = img1.flatten()\n",
        "    v2 = img2.flatten()\n",
        "    \n",
        "    return distance.cosine(v1, v2)\n",
        "\n",
        "\n",
        "def arccos_distance(img1,img2):\n",
        "    \n",
        "    cos_sim = 1 - cosine_distance_std(img1,img2)\n",
        "    \n",
        "    return (math.acos(cos_sim))\n"
      ],
      "execution_count": 0,
      "outputs": []
    },
    {
      "metadata": {
        "id": "YkH--BQHNsON",
        "colab_type": "text"
      },
      "cell_type": "markdown",
      "source": [
        "### Dynamic Time Warping"
      ]
    },
    {
      "metadata": {
        "id": "H8thSBeT3kZj",
        "colab_type": "code",
        "colab": {}
      },
      "cell_type": "code",
      "source": [
        "#Dynamic Time Warping implementation\n",
        "from fastdtw import fastdtw\n",
        "\n",
        "def dtw(img1,img2, distance_function):\n",
        "    dist,path = fastdtw(img1,img2,dist = distance_function)\n",
        "    \n",
        "    return dist"
      ],
      "execution_count": 0,
      "outputs": []
    },
    {
      "metadata": {
        "id": "fV7cYZNuNuoS",
        "colab_type": "text"
      },
      "cell_type": "markdown",
      "source": [
        "### Canberra Distance"
      ]
    },
    {
      "metadata": {
        "id": "zjie1_iEDKNg",
        "colab_type": "code",
        "colab": {}
      },
      "cell_type": "code",
      "source": [
        "def canberra_distance_std(img1, img2):\n",
        "    v1 = img1.flatten()\n",
        "    v2 = img2.flatten()\n",
        "    \n",
        "    return distance.canberra(v1, v2)\n",
        "\n",
        "def canberra_distance_modified(img1, img2):\n",
        "    max_x, max_y = img1.shape\n",
        "    \n",
        "    v1 = black_pixels(img1)\n",
        "    v2 = black_pixels(img2)\n",
        "    \n",
        "    # Number of black pixels is not same for every image pair.\n",
        "    \n",
        "    # Randomly select black pixels from larger one\n",
        "    randoms = np.random.permutation(min(len(v1), len(v2)))\n",
        "    \n",
        "    if len(v1) < len(v2) :\n",
        "        v2 = v2[randoms[:]]\n",
        "    else:\n",
        "        v1 = v1[randoms[:]]\n",
        "    \n",
        "    \n",
        "    dist = distance.cdist(v1,v2,'canberra')\n",
        "    \n",
        "    difference_sum = np.sum(np.amin(dist,axis=1))/len(dist)\n",
        "    \n",
        "    return difference_sum"
      ],
      "execution_count": 0,
      "outputs": []
    },
    {
      "metadata": {
        "id": "4JTQJFthHTAX",
        "colab_type": "code",
        "colab": {}
      },
      "cell_type": "code",
      "source": [
        "def distance_wrt_origin(img1,img2,distance_function):\n",
        "    \"\"\"\n",
        "      Calculates distance with respect to origin based on distance_function\n",
        "      \n",
        "      Extracts black pixels and calculate its coordinates, then sum distance to origin\n",
        "      \n",
        "      return both of the distances in a tuple like (v1_sum, v2_sum)\n",
        "      \n",
        "    \"\"\"\n",
        "    \n",
        "    v1 = black_pixels(img1)\n",
        "    v2 = black_pixels(img2)\n",
        "    \n",
        "    max_x, max_y = img1.shape\n",
        "    \n",
        "    v1 = black_pixels(img1)\n",
        "    v2 = black_pixels(img2)\n",
        "    \n",
        "    # Number of black pixels is not same for every image pair.\n",
        "    \n",
        "    # Randomly select black pixels from larger one\n",
        "    randoms = np.random.permutation(min(len(v1), len(v2)))\n",
        "    \n",
        "    if len(v1) < len(v2) :\n",
        "        v2 = v2[randoms[:]]\n",
        "    else:\n",
        "        v1 = v1[randoms[:]]\n",
        "    \n",
        "    v1_sum = np.sum(distance.cdist(v1,[[0,0]], distance_function))\n",
        "    v2_sum = np.sum(distance.cdist(v2,[[0,0]], distance_function))\n",
        "    \n",
        "    \n",
        "    return v1_sum,v2_sum"
      ],
      "execution_count": 0,
      "outputs": []
    },
    {
      "metadata": {
        "id": "2djM80TDImjo",
        "colab_type": "text"
      },
      "cell_type": "markdown",
      "source": [
        "## Distance Functions Experiment Suite"
      ]
    },
    {
      "metadata": {
        "id": "UdwdLaLYamkt",
        "colab_type": "code",
        "cellView": "form",
        "outputId": "93419029-df7c-4c29-c043-c1c0c8c2194c",
        "colab": {
          "base_uri": "https://localhost:8080/",
          "height": 428
        }
      },
      "cell_type": "code",
      "source": [
        "#@title  { run: \"auto\" }\n",
        "#@markdown Select characters and drawings to compute distances.\n",
        "\n",
        "\n",
        "\n",
        "character1 = 5 #@param {type:\"slider\", min:0, max:25, step:1}\n",
        "drawing1 = 2 #@param {type:\"slider\", min:0, max:19, step:1}\n",
        "\n",
        "character2 = 25 #@param {type:\"slider\", min:0, max:25, step:1}\n",
        "drawing2 = 0 #@param {type:\"slider\", min:0, max:18, step:1}\n",
        "\n",
        "img1 = new_latin[character1,drawing1]\n",
        "img2 = new_latin[character2,drawing2]\n",
        "\n",
        "#print(latin.shape)\n",
        "\n",
        "fig=plt.figure(figsize=(8, 8))\n",
        "fig.add_subplot(1, 2, 1)\n",
        "imgplot = plt.imshow(img1)\n",
        "fig.add_subplot(1, 2, 2)\n",
        "imgplot = plt.imshow(img2)\n",
        "\n",
        "\n",
        "print(\"standard euclidean distance: \", euclidean_distance_std(img1,img2))\n",
        "print(\"modified euclidean distance: \", euclidean_distance_modified(img1,img2))\n",
        "print(\"modified euclidean distance_v2: \", euclidean_distance_modified_v2(img1,img2))\n",
        "print(\"standard manhattan distance: \",manhattan_distance_std(img1,img2))\n",
        "print(\"modified manhattan distance: \", manhattan_distance_modified(img1,img2))\n",
        "print(\"cosine similarity: \",cosine_distance_std(img1,img2))\n",
        "print(\"arccos similarity: \", arccos_distance(img1,img2))\n",
        "print(\"standard canberra distance: \", canberra_distance_std(img1,img2))\n",
        "print(\"modified canberra distance: \", canberra_distance_modified(img1,img2))\n",
        "\n",
        "\n",
        "v1_sum, v2_sum = distance_wrt_origin(img1,img2,\"euclidean\")\n",
        "print(\"Scores... img1: {0} and img2: {1} \".format(v1_sum,v2_sum))\n",
        "\n",
        "\n",
        "\n"
      ],
      "execution_count": 140,
      "outputs": [
        {
          "output_type": "stream",
          "text": [
            "standard euclidean distance:  36.810324638611924\n",
            "modified euclidean distance:  5.2503917455270885\n",
            "modified euclidean distance_v2:  5.478838487778822\n",
            "standard manhattan distance:  1355.0\n",
            "modified manhattan distance:  6.043613707165109\n",
            "cosine similarity:  0.7963072290042694\n",
            "arccos similarity:  1.3656680275686877\n",
            "standard canberra distance:  1355.0\n",
            "modified canberra distance:  0.16954495309988163\n",
            "Scores... img1: 19307.078964399247 and img2: 23978.39857957 \n"
          ],
          "name": "stdout"
        },
        {
          "output_type": "display_data",
          "data": {
            "text/plain": [
              "<Figure size 576x576 with 2 Axes>"
            ],
            "image/png": "[encoded data removed]"
          },
          "metadata": {
            "tags": [],
            "needs_background": "light"
          }
        }
      ]
    },
    {
      "metadata": {
        "id": "lQCykxHdM-Ez",
        "colab_type": "text"
      },
      "cell_type": "markdown",
      "source": [
        "###Testing"
      ]
    },
    {
      "metadata": {
        "id": "Tya0Md9-D4JQ",
        "colab_type": "text"
      },
      "cell_type": "markdown",
      "source": [
        "Clasiffication runs according to basic non-parametric distance functions"
      ]
    },
    {
      "metadata": {
        "id": "ECbEKBF8KEtG",
        "colab_type": "code",
        "colab": {}
      },
      "cell_type": "code",
      "source": [
        "import timeit\n",
        "\n",
        "def classification_run(train_set, test_set, f_cost, ftype='cost'):\n",
        "    # Compute error rate for one run of one-shot classification\n",
        "    #  n_test : number of unclassified images\n",
        "    #  n_train: number of labeled images\n",
        "    #  f_cost : f_cost(itemA,itemB) should compute similarity between two images, using output of f_load\n",
        "    #  ftype  : 'cost' if small values from f_cost mean more similar, or 'score' if large values are more similar\n",
        "    #\n",
        "    # Output\n",
        "    #  perror : percent errors (0 to 100% error)\n",
        "    # \n",
        "    \n",
        "    \n",
        "    n_train = train_set.shape[0]\n",
        "    n_test_class, n_test_instances = test_set.shape[0:2]\n",
        "    \n",
        "    costs = np.zeros((n_test_class,n_test_instances,n_train))\n",
        "    \n",
        "    for i in range(n_test_class):\n",
        "        start = timeit.default_timer()\n",
        "        for k in range(n_test_instances):\n",
        "            for c in range(n_train):\n",
        "                costs[i,k,c] = f_cost(test_set[i,k],train_set[c])\n",
        "        stop = timeit.default_timer()\n",
        "        \n",
        "        print(\"Test class: {0}/{2} completed. Time: {1} sec. Estimated remaining time: {3} sec\".format(i+1, stop - start, n_test_class, (stop-start)*(n_test_class-i-1)))\n",
        "    \n",
        "    #print( costs[0])\n",
        "    #print(np.argmin(costs[0],axis=1))\n",
        "    \n",
        "    if ftype == 'cost':\n",
        "        predicted_class = []\n",
        "        for i in range(n_test_class):\n",
        "            predicted_class.append(np.argpartition(costs[i],2,axis=1))\n",
        "        \n",
        "    elif ftype == 'score':\n",
        "        predicted_class = []\n",
        "        for i in range(n_test_class):\n",
        "            predicted_class.append(np.argmax(costs[i],axis=1))\n",
        "    else:\n",
        "        assert False\n",
        "    \n",
        "    correct = 0.0\n",
        "    #print(predicted_class)\n",
        "    class_scores = [0.0 for i in range(n_test_class)]\n",
        "    \n",
        "    correct2 = 0.0\n",
        "    class_scores2 = [0.0 for i in range(n_test_class)]\n",
        "\n",
        "    correct3 = 0.0\n",
        "    class_scores3 = [0.0 for i in range(n_test_class)]\n",
        "\n",
        "    for i in range(n_test_class):\n",
        "        for j in range(n_test_instances):\n",
        "            if predicted_class[i][j][0] == i:\n",
        "                correct += 1\n",
        "                class_scores[i] += 1\n",
        "                \n",
        "            if predicted_class[i][j][0] == i or predicted_class[i][j][1] == i:\n",
        "                \"\"\"plt.subplot(1,2,1)\n",
        "                plt.imshow(test_set[i,j])\n",
        "                plt.subplot(1,2,2)\n",
        "                plt.imshow(train_set[i])\"\"\"\n",
        "                correct2 += 1\n",
        "                class_scores2[i] += 1\n",
        "                \n",
        "            if predicted_class[i][j][0] == i or predicted_class[i][j][1] == i or predicted_class[i][j][2]==i:\n",
        "                correct3 += 1\n",
        "                class_scores3[i] += 1\n",
        "            \n",
        "    \n",
        "    for i in range(n_test_class):\n",
        "        print(\" Class {0} : Top1 correct: {1}/{2}, Top2 correct: {3}/{2}, Top3 correct: {4}/{2}\".format(i,class_scores[i], n_test_instances,class_scores2[i],class_scores3[i]))\n",
        "    \n",
        "    print(\"Total: Top1 -: {0}/{1} = {4}, Top2 -: {2}/{1} = {5}, Top3 -: {3}/{1} = {6}\".format(correct,n_test_class * n_test_instances,correct2,correct3,100 * correct / (n_test_class * n_test_instances), \\\n",
        "                                                                                             100 * correct2 / (n_test_class * n_test_instances),100 * correct3 / (n_test_class * n_test_instances)))\n",
        "    pcorrect = 100 * correct / (n_test_class * n_test_instances)\n",
        "    perror = 100 - pcorrect\n",
        "    \n",
        "    return pcorrect\n",
        "    "
      ],
      "execution_count": 0,
      "outputs": []
    },
    {
      "metadata": {
        "id": "W5RKn3ZIQOgC",
        "colab_type": "code",
        "outputId": "022476ad-4524-478e-c514-202781beb89a",
        "colab": {
          "base_uri": "https://localhost:8080/",
          "height": 955
        }
      },
      "cell_type": "code",
      "source": [
        "print(classification_run(latin_samples, new_latin, cosine_distance_std))"
      ],
      "execution_count": 179,
      "outputs": [
        {
          "output_type": "stream",
          "text": [
            "Test class: 1/26 completed. Time: 0.05489138099983393 sec. Estimated remaining time: 1.3722845249958482 sec\n",
            "Test class: 2/26 completed. Time: 0.041216112000256544 sec. Estimated remaining time: 0.989186688006157 sec\n",
            "Test class: 3/26 completed. Time: 0.04514357700099936 sec. Estimated remaining time: 1.0383022710229852 sec\n",
            "Test class: 4/26 completed. Time: 0.04586046499935037 sec. Estimated remaining time: 1.0089302299857081 sec\n",
            "Test class: 5/26 completed. Time: 0.04216336899844464 sec. Estimated remaining time: 0.8854307489673374 sec\n",
            "Test class: 6/26 completed. Time: 0.04362228299942217 sec. Estimated remaining time: 0.8724456599884434 sec\n",
            "Test class: 7/26 completed. Time: 0.06064085199977853 sec. Estimated remaining time: 1.1521761879957921 sec\n",
            "Test class: 8/26 completed. Time: 0.06973568899957172 sec. Estimated remaining time: 1.255242401992291 sec\n",
            "Test class: 9/26 completed. Time: 0.05889801099874603 sec. Estimated remaining time: 1.0012661869786825 sec\n",
            "Test class: 10/26 completed. Time: 0.05261980999966909 sec. Estimated remaining time: 0.8419169599947054 sec\n",
            "Test class: 11/26 completed. Time: 0.04260463399987202 sec. Estimated remaining time: 0.6390695099980803 sec\n",
            "Test class: 12/26 completed. Time: 0.046747961998335086 sec. Estimated remaining time: 0.6544714679766912 sec\n",
            "Test class: 13/26 completed. Time: 0.04553207100070722 sec. Estimated remaining time: 0.5919169230091939 sec\n",
            "Test class: 14/26 completed. Time: 0.047158399000181817 sec. Estimated remaining time: 0.5659007880021818 sec\n",
            "Test class: 15/26 completed. Time: 0.04983382800128311 sec. Estimated remaining time: 0.5481721080141142 sec\n",
            "Test class: 16/26 completed. Time: 0.04609844800143037 sec. Estimated remaining time: 0.4609844800143037 sec\n",
            "Test class: 17/26 completed. Time: 0.04191716700006509 sec. Estimated remaining time: 0.37725450300058583 sec\n",
            "Test class: 18/26 completed. Time: 0.05116686600013054 sec. Estimated remaining time: 0.4093349280010443 sec\n",
            "Test class: 19/26 completed. Time: 0.046331150999321835 sec. Estimated remaining time: 0.32431805699525285 sec\n",
            "Test class: 20/26 completed. Time: 0.04788795499916887 sec. Estimated remaining time: 0.2873277299950132 sec\n",
            "Test class: 21/26 completed. Time: 0.04308760300045833 sec. Estimated remaining time: 0.21543801500229165 sec\n",
            "Test class: 22/26 completed. Time: 0.04962405399965064 sec. Estimated remaining time: 0.19849621599860257 sec\n",
            "Test class: 23/26 completed. Time: 0.04187551600080042 sec. Estimated remaining time: 0.12562654800240125 sec\n",
            "Test class: 24/26 completed. Time: 0.04182505700009642 sec. Estimated remaining time: 0.08365011400019284 sec\n",
            "Test class: 25/26 completed. Time: 0.048434962998726405 sec. Estimated remaining time: 0.048434962998726405 sec\n",
            "Test class: 26/26 completed. Time: 0.04741280700000061 sec. Estimated remaining time: 0.0 sec\n",
            " Class 0 : Top1 correct: 7.0/19, Top2 correct: 11.0/19, Top3 correct: 12.0/19\n",
            " Class 1 : Top1 correct: 5.0/19, Top2 correct: 5.0/19, Top3 correct: 8.0/19\n",
            " Class 2 : Top1 correct: 12.0/19, Top2 correct: 15.0/19, Top3 correct: 16.0/19\n",
            " Class 3 : Top1 correct: 5.0/19, Top2 correct: 7.0/19, Top3 correct: 7.0/19\n",
            " Class 4 : Top1 correct: 11.0/19, Top2 correct: 11.0/19, Top3 correct: 13.0/19\n",
            " Class 5 : Top1 correct: 1.0/19, Top2 correct: 5.0/19, Top3 correct: 9.0/19\n",
            " Class 6 : Top1 correct: 7.0/19, Top2 correct: 10.0/19, Top3 correct: 10.0/19\n",
            " Class 7 : Top1 correct: 1.0/19, Top2 correct: 2.0/19, Top3 correct: 3.0/19\n",
            " Class 8 : Top1 correct: 3.0/19, Top2 correct: 6.0/19, Top3 correct: 9.0/19\n",
            " Class 9 : Top1 correct: 7.0/19, Top2 correct: 9.0/19, Top3 correct: 12.0/19\n",
            " Class 10 : Top1 correct: 5.0/19, Top2 correct: 5.0/19, Top3 correct: 6.0/19\n",
            " Class 11 : Top1 correct: 9.0/19, Top2 correct: 9.0/19, Top3 correct: 10.0/19\n",
            " Class 12 : Top1 correct: 13.0/19, Top2 correct: 18.0/19, Top3 correct: 18.0/19\n",
            " Class 13 : Top1 correct: 14.0/19, Top2 correct: 15.0/19, Top3 correct: 16.0/19\n",
            " Class 14 : Top1 correct: 3.0/19, Top2 correct: 5.0/19, Top3 correct: 6.0/19\n",
            " Class 15 : Top1 correct: 6.0/19, Top2 correct: 15.0/19, Top3 correct: 16.0/19\n",
            " Class 16 : Top1 correct: 12.0/19, Top2 correct: 15.0/19, Top3 correct: 16.0/19\n",
            " Class 17 : Top1 correct: 2.0/19, Top2 correct: 5.0/19, Top3 correct: 5.0/19\n",
            " Class 18 : Top1 correct: 7.0/19, Top2 correct: 11.0/19, Top3 correct: 11.0/19\n",
            " Class 19 : Top1 correct: 1.0/19, Top2 correct: 2.0/19, Top3 correct: 3.0/19\n",
            " Class 20 : Top1 correct: 2.0/19, Top2 correct: 3.0/19, Top3 correct: 3.0/19\n",
            " Class 21 : Top1 correct: 3.0/19, Top2 correct: 5.0/19, Top3 correct: 5.0/19\n",
            " Class 22 : Top1 correct: 3.0/19, Top2 correct: 5.0/19, Top3 correct: 6.0/19\n",
            " Class 23 : Top1 correct: 11.0/19, Top2 correct: 12.0/19, Top3 correct: 16.0/19\n",
            " Class 24 : Top1 correct: 12.0/19, Top2 correct: 15.0/19, Top3 correct: 17.0/19\n",
            " Class 25 : Top1 correct: 2.0/19, Top2 correct: 3.0/19, Top3 correct: 4.0/19\n",
            "Total: Top1 -: 164.0/494 = 33.19838056680162, Top2 -: 224.0/494 = 45.34412955465587, Top3 -: 257.0/494 = 52.02429149797571\n",
            "33.19838056680162\n"
          ],
          "name": "stdout"
        }
      ]
    },
    {
      "metadata": {
        "id": "F85CrTZKF5LT",
        "colab_type": "code",
        "colab": {
          "base_uri": "https://localhost:8080/",
          "height": 885
        },
        "outputId": "2859235d-5df2-4100-c937-5eecc0877d2c"
      },
      "cell_type": "code",
      "source": [
        "print(classification_run(greek_samples, new_greek, cosine_distance_std))"
      ],
      "execution_count": 180,
      "outputs": [
        {
          "output_type": "stream",
          "text": [
            "Test class: 1/24 completed. Time: 0.046673109998664586 sec. Estimated remaining time: 1.0734815299692855 sec\n",
            "Test class: 2/24 completed. Time: 0.03996599299898662 sec. Estimated remaining time: 0.8792518459777057 sec\n",
            "Test class: 3/24 completed. Time: 0.04531046800002514 sec. Estimated remaining time: 0.9515198280005279 sec\n",
            "Test class: 4/24 completed. Time: 0.043651625001075445 sec. Estimated remaining time: 0.8730325000215089 sec\n",
            "Test class: 5/24 completed. Time: 0.04334061599911365 sec. Estimated remaining time: 0.8234717039831594 sec\n",
            "Test class: 6/24 completed. Time: 0.04661223900075129 sec. Estimated remaining time: 0.8390203020135232 sec\n",
            "Test class: 7/24 completed. Time: 0.04922238499966625 sec. Estimated remaining time: 0.8367805449943262 sec\n",
            "Test class: 8/24 completed. Time: 0.054532369000298786 sec. Estimated remaining time: 0.8725179040047806 sec\n",
            "Test class: 9/24 completed. Time: 0.047043022999787354 sec. Estimated remaining time: 0.7056453449968103 sec\n",
            "Test class: 10/24 completed. Time: 0.04580498799987254 sec. Estimated remaining time: 0.6412698319982155 sec\n",
            "Test class: 11/24 completed. Time: 0.06709669800147822 sec. Estimated remaining time: 0.8722570740192168 sec\n",
            "Test class: 12/24 completed. Time: 0.06660405299953709 sec. Estimated remaining time: 0.7992486359944451 sec\n",
            "Test class: 13/24 completed. Time: 0.056724669000686845 sec. Estimated remaining time: 0.6239713590075553 sec\n",
            "Test class: 14/24 completed. Time: 0.04764441800034547 sec. Estimated remaining time: 0.4764441800034547 sec\n",
            "Test class: 15/24 completed. Time: 0.051797484999042354 sec. Estimated remaining time: 0.4661773649913812 sec\n",
            "Test class: 16/24 completed. Time: 0.05610645100023248 sec. Estimated remaining time: 0.44885160800185986 sec\n",
            "Test class: 17/24 completed. Time: 0.04993411599934916 sec. Estimated remaining time: 0.3495388119954441 sec\n",
            "Test class: 18/24 completed. Time: 0.044758981000995846 sec. Estimated remaining time: 0.2685538860059751 sec\n",
            "Test class: 19/24 completed. Time: 0.04632272299932083 sec. Estimated remaining time: 0.23161361499660416 sec\n",
            "Test class: 20/24 completed. Time: 0.05949639299979026 sec. Estimated remaining time: 0.23798557199916104 sec\n",
            "Test class: 21/24 completed. Time: 0.0548029569999926 sec. Estimated remaining time: 0.1644088709999778 sec\n",
            "Test class: 22/24 completed. Time: 0.040087773999403 sec. Estimated remaining time: 0.080175547998806 sec\n",
            "Test class: 23/24 completed. Time: 0.03850631899877044 sec. Estimated remaining time: 0.03850631899877044 sec\n",
            "Test class: 24/24 completed. Time: 0.039174694000394084 sec. Estimated remaining time: 0.0 sec\n",
            " Class 0 : Top1 correct: 2.0/19, Top2 correct: 3.0/19, Top3 correct: 3.0/19\n",
            " Class 1 : Top1 correct: 2.0/19, Top2 correct: 3.0/19, Top3 correct: 3.0/19\n",
            " Class 2 : Top1 correct: 9.0/19, Top2 correct: 10.0/19, Top3 correct: 10.0/19\n",
            " Class 3 : Top1 correct: 5.0/19, Top2 correct: 6.0/19, Top3 correct: 6.0/19\n",
            " Class 4 : Top1 correct: 8.0/19, Top2 correct: 13.0/19, Top3 correct: 13.0/19\n",
            " Class 5 : Top1 correct: 6.0/19, Top2 correct: 9.0/19, Top3 correct: 10.0/19\n",
            " Class 6 : Top1 correct: 5.0/19, Top2 correct: 8.0/19, Top3 correct: 9.0/19\n",
            " Class 7 : Top1 correct: 8.0/19, Top2 correct: 12.0/19, Top3 correct: 14.0/19\n",
            " Class 8 : Top1 correct: 10.0/19, Top2 correct: 11.0/19, Top3 correct: 11.0/19\n",
            " Class 9 : Top1 correct: 3.0/19, Top2 correct: 5.0/19, Top3 correct: 10.0/19\n",
            " Class 10 : Top1 correct: 6.0/19, Top2 correct: 8.0/19, Top3 correct: 10.0/19\n",
            " Class 11 : Top1 correct: 5.0/19, Top2 correct: 9.0/19, Top3 correct: 11.0/19\n",
            " Class 12 : Top1 correct: 7.0/19, Top2 correct: 7.0/19, Top3 correct: 8.0/19\n",
            " Class 13 : Top1 correct: 12.0/19, Top2 correct: 15.0/19, Top3 correct: 17.0/19\n",
            " Class 14 : Top1 correct: 8.0/19, Top2 correct: 13.0/19, Top3 correct: 13.0/19\n",
            " Class 15 : Top1 correct: 4.0/19, Top2 correct: 7.0/19, Top3 correct: 9.0/19\n",
            " Class 16 : Top1 correct: 11.0/19, Top2 correct: 13.0/19, Top3 correct: 13.0/19\n",
            " Class 17 : Top1 correct: 6.0/19, Top2 correct: 7.0/19, Top3 correct: 7.0/19\n",
            " Class 18 : Top1 correct: 5.0/19, Top2 correct: 7.0/19, Top3 correct: 9.0/19\n",
            " Class 19 : Top1 correct: 4.0/19, Top2 correct: 4.0/19, Top3 correct: 4.0/19\n",
            " Class 20 : Top1 correct: 9.0/19, Top2 correct: 12.0/19, Top3 correct: 12.0/19\n",
            " Class 21 : Top1 correct: 6.0/19, Top2 correct: 8.0/19, Top3 correct: 8.0/19\n",
            " Class 22 : Top1 correct: 7.0/19, Top2 correct: 8.0/19, Top3 correct: 10.0/19\n",
            " Class 23 : Top1 correct: 6.0/19, Top2 correct: 11.0/19, Top3 correct: 12.0/19\n",
            "Total: Top1 -: 154.0/456 = 33.771929824561404, Top2 -: 209.0/456 = 45.833333333333336, Top3 -: 232.0/456 = 50.87719298245614\n",
            "33.771929824561404\n"
          ],
          "name": "stdout"
        }
      ]
    },
    {
      "metadata": {
        "id": "BLQF-pm1QSX8",
        "colab_type": "code",
        "colab": {}
      },
      "cell_type": "code",
      "source": [
        "\"\""
      ],
      "execution_count": 0,
      "outputs": []
    }
  ]
}